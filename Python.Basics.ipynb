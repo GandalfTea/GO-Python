{
 "cells": [
  {
   "cell_type": "code",
   "execution_count": null,
   "metadata": {},
   "outputs": [],
   "source": [
    "# PYTHON BASICS\n",
    "# Syntax"
   ]
  },
  {
   "cell_type": "code",
   "execution_count": 6,
   "metadata": {},
   "outputs": [],
   "source": [
    "# Python has no mandatory statement termination characters/\n",
    "# Blocks are specified by indenetaion. Indent to begin a block, dedent to end.\n",
    "# Statements that expect an indentation level end in a colon ':'.\n",
    "\n",
    "#You can increment and decrement with '+=' and '-='"
   ]
  },
  {
   "cell_type": "code",
   "execution_count": 2,
   "metadata": {},
   "outputs": [
    {
     "data": {
      "text/plain": [
       "6"
      ]
     },
     "execution_count": 2,
     "metadata": {},
     "output_type": "execute_result"
    }
   ],
   "source": [
    "myVar = 3\n",
    "myVar += 3\n",
    "myVar"
   ]
  },
  {
   "cell_type": "code",
   "execution_count": 4,
   "metadata": {},
   "outputs": [
    {
     "name": "stdout",
     "output_type": "stream",
     "text": [
      "Hello world.\n"
     ]
    }
   ],
   "source": [
    "myString = \"Hello\"\n",
    "myString += \" world.\"\n",
    "print(myString)"
   ]
  },
  {
   "cell_type": "code",
   "execution_count": 5,
   "metadata": {},
   "outputs": [
    {
     "name": "stdout",
     "output_type": "stream",
     "text": [
      "Hello world.\n"
     ]
    }
   ],
   "source": [
    "# This swaps the characters in one line.\n",
    "myVar, myString = myString, myVar"
   ]
  },
  {
   "cell_type": "code",
   "execution_count": 7,
   "metadata": {},
   "outputs": [],
   "source": [
    "# DATA TYPES :"
   ]
  },
  {
   "cell_type": "code",
   "execution_count": 8,
   "metadata": {},
   "outputs": [],
   "source": [
    "# Python has lists, tuples and dictionatys. \n",
    "# Tuples are immutable one-dimentional arrays."
   ]
  },
  {
   "cell_type": "code",
   "execution_count": 9,
   "metadata": {},
   "outputs": [
    {
     "name": "stdout",
     "output_type": "stream",
     "text": [
      "3\n"
     ]
    }
   ],
   "source": [
    "sample = [1, [\"another\", \"list\"], (\"a\", \"tuple\")]\n",
    "myList = [\"List item 1\", 2, 3.14]\n",
    "myList[0] = [\"List item 1 again\"]\n",
    "myList[-1] = 3.21 #Here, we refer to the last item.\n",
    "myDict = {\"Key 1\" : \"Value 1\", 2 : 3, \"pi\" : 3.14}\n",
    "myDict[\"pi\"] = 3.15\n",
    "myTuple = (1, 2, 3)\n",
    "myFunction = len\n",
    "print(myFunction(myList))"
   ]
  },
  {
   "cell_type": "code",
   "execution_count": 10,
   "metadata": {},
   "outputs": [],
   "source": [
    "# You can access array ranges using a semicolon ':'.\n",
    "# Leaving the start index empty assumes the first item and same for last.\n",
    "# Indexing is inclusive-exclusive, so specifying [2 : 10] will return items [2]\n",
    "# (the third item, because of zero indexing) to [9] (the tenth item).\n",
    "# Negative indexes count from the last item backwards :"
   ]
  },
  {
   "cell_type": "code",
   "execution_count": 11,
   "metadata": {},
   "outputs": [
    {
     "name": "stdout",
     "output_type": "stream",
     "text": [
      "['List item 1', 2, 3.14]\n"
     ]
    }
   ],
   "source": [
    "myList = [\"List item 1\", 2, 3.14]\n",
    "print(myList[:])"
   ]
  },
  {
   "cell_type": "code",
   "execution_count": 12,
   "metadata": {},
   "outputs": [
    {
     "name": "stdout",
     "output_type": "stream",
     "text": [
      "['List item 1', 2]\n"
     ]
    }
   ],
   "source": [
    "print(myList[0:2])"
   ]
  },
  {
   "cell_type": "code",
   "execution_count": 13,
   "metadata": {},
   "outputs": [
    {
     "name": "stdout",
     "output_type": "stream",
     "text": [
      "['List item 1', 2]\n"
     ]
    }
   ],
   "source": [
    "print(myList[-3:-1])"
   ]
  },
  {
   "cell_type": "code",
   "execution_count": 14,
   "metadata": {},
   "outputs": [
    {
     "name": "stdout",
     "output_type": "stream",
     "text": [
      "[2, 3.14]\n"
     ]
    }
   ],
   "source": [
    "print(myList[1:])"
   ]
  },
  {
   "cell_type": "code",
   "execution_count": 15,
   "metadata": {},
   "outputs": [
    {
     "name": "stdout",
     "output_type": "stream",
     "text": [
      "['List item 1', 3.14]\n"
     ]
    }
   ],
   "source": [
    "# You can add a third parameter names step, making Python stap in increments.\n",
    "print(myList[::2])"
   ]
  },
  {
   "cell_type": "code",
   "execution_count": 16,
   "metadata": {},
   "outputs": [],
   "source": [
    "# STRINGS :"
   ]
  },
  {
   "cell_type": "code",
   "execution_count": 21,
   "metadata": {},
   "outputs": [
    {
     "data": {
      "text/plain": [
       "b'Hello \\xce\\xb1'"
      ]
     },
     "execution_count": 21,
     "metadata": {},
     "output_type": "execute_result"
    }
   ],
   "source": [
    "# Python strings are always Unicode. There is another type that is pute bytes.\n",
    "# These are called bytestring and are represented with a 'b' prefix:\n",
    "b'Hello \\xce\\xb1'\n",
    "# To fill a string with values, you use the % operator and a tuple. Each %s\n",
    "# gets replaced with an item from the tuple, left to right, and can also use \n",
    "# dictionaty substitutions, like :"
   ]
  },
  {
   "cell_type": "code",
   "execution_count": 18,
   "metadata": {},
   "outputs": [
    {
     "name": "stdout",
     "output_type": "stream",
     "text": [
      "This is a test\n"
     ]
    }
   ],
   "source": [
    "# print(\"Name : %s\\\n",
    "# Number : %s\\\n",
    "# String : %s\"\n",
    "# Name : Stavros\n",
    "# Number : 3\n",
    "\n",
    "print(\"This %(verb)s a %(noun)s\" % {\"noun\": \"test\", \"verb\":\"is\"})"
   ]
  },
  {
   "cell_type": "code",
   "execution_count": 19,
   "metadata": {},
   "outputs": [
    {
     "name": "stdout",
     "output_type": "stream",
     "text": [
      "Hello, Stavros!\n"
     ]
    }
   ],
   "source": [
    "name = \"Stavros\"\n",
    "\"Hello, {}!\".format(name)\n",
    "print(f\"Hello, {name}!\")"
   ]
  },
  {
   "cell_type": "code",
   "execution_count": 20,
   "metadata": {},
   "outputs": [],
   "source": [
    "# CONTROL FLOW STATEMENTS :"
   ]
  },
  {
   "cell_type": "code",
   "execution_count": null,
   "metadata": {},
   "outputs": [],
   "source": []
  }
 ],
 "metadata": {
  "kernelspec": {
   "display_name": "Python 3",
   "language": "python",
   "name": "python3"
  },
  "language_info": {
   "codemirror_mode": {
    "name": "ipython",
    "version": 3
   },
   "file_extension": ".py",
   "mimetype": "text/x-python",
   "name": "python",
   "nbconvert_exporter": "python",
   "pygments_lexer": "ipython3",
   "version": "3.9.0"
  }
 },
 "nbformat": 4,
 "nbformat_minor": 4
}
